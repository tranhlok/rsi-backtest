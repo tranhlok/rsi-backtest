{
 "cells": [
  {
   "cell_type": "markdown",
   "metadata": {},
   "source": [
    "# Backtest\n",
    "\n",
    "Backtest for simple rsi vs buy and hold strat"
   ]
  },
  {
   "cell_type": "code",
   "execution_count": 1,
   "metadata": {},
   "outputs": [],
   "source": [
    "import pandas as pd\n",
    "import numpy as np"
   ]
  },
  {
   "cell_type": "code",
   "execution_count": 2,
   "metadata": {},
   "outputs": [],
   "source": [
    "# Load the Excel file\n",
    "file_path = '../../data/raw/Index Prices.xlsx'\n",
    "xls = pd.ExcelFile(file_path)\n",
    "\n",
    "# Load the data from each sheet\n",
    "data_xbi = pd.read_excel(xls, sheet_name='XBI')\n",
    "data_spx = pd.read_excel(xls, sheet_name='SPX')\n",
    "data_nbi = pd.read_excel(xls, sheet_name='NBI')\n",
    "data_m1wo0hc = pd.read_excel(xls, sheet_name='M1WO0HC')"
   ]
  },
  {
   "cell_type": "code",
   "execution_count": 3,
   "metadata": {},
   "outputs": [],
   "source": [
    "def calculate_rsi(data, date_column, price_column, output_path, period=14, output_index=False):\n",
    "    delta = data[price_column].diff(1)  # Calculate the difference between the current and previous close\n",
    "    gain = delta.where(delta > 0, 0)  # Keep only gains\n",
    "    loss = -delta.where(delta < 0, 0)  # Keep only losses (in positive values)\n",
    "    \n",
    "    avg_gain = gain.rolling(window=period, min_periods=period).mean()  # Rolling average gain\n",
    "    avg_loss = loss.rolling(window=period, min_periods=period).mean()  # Rolling average loss\n",
    "    \n",
    "    rs = avg_gain / avg_loss  # Relative Strength (RS)\n",
    "    rsi = 100 - (100 / (1 + rs))  # Relative Strength Index (RSI)\n",
    "    \n",
    "    # Create a DataFrame to store all the calculations, including Date\n",
    "    rsi_data = pd.DataFrame({\n",
    "        'Date': data[date_column],\n",
    "        'Close': data[price_column],\n",
    "        'Change': delta,\n",
    "        'Gain': gain,\n",
    "        'Loss': loss,\n",
    "        'Avg Gain': avg_gain,\n",
    "        'Avg Loss': avg_loss,\n",
    "        'RS': rs,\n",
    "        'RSI 14': rsi  \n",
    "    })\n",
    "    \n",
    "    # Also output csv for further inspection\n",
    "    rsi_data.to_csv(output_path, index=output_index)\n",
    "    return rsi_data\n",
    "\n",
    "# Calculate RSI and other metrics for each index\n",
    "data_xbi_rsi = calculate_rsi(data_xbi, 'Unnamed: 0', 'XBI Equity', 'generated_data/XBI.csv')\n",
    "data_spx_rsi = calculate_rsi(data_spx, 'Unnamed: 0', 'SPX Index', 'generated_data/SPX.csv')\n",
    "data_nbi_rsi = calculate_rsi(data_nbi, 'Unnamed: 0', 'NBI Index', 'generated_data/NBI.csv')\n",
    "data_m1wo0hc_rsi = calculate_rsi(data_m1wo0hc, 'Unnamed: 0', 'M1WO0HC Index', 'generated_data/M1WO0HC.csv')"
   ]
  },
  {
   "cell_type": "code",
   "execution_count": 4,
   "metadata": {},
   "outputs": [],
   "source": [
    "def rsi_strategy(data, rsi_column='RSI 14', price_column='Close', date_column = 'Date', rsi_overbought=70, rsi_oversold=30):\n",
    "    signals = []\n",
    "    position = 0  # 0 means no position, 1 means holding a position\n",
    "    for i in range(1, len(data)):\n",
    "        if data[rsi_column].iloc[i] < rsi_oversold and position == 0:\n",
    "            # Buy signal (Oversold condition)\n",
    "            signals.append((data[date_column].iloc[i], 'Buy', data[price_column].iloc[i], data[rsi_column].iloc[i]))\n",
    "            position = 1  # Enter position\n",
    "        elif data[rsi_column].iloc[i] > rsi_overbought and position == 1:\n",
    "            # Sell signal (Overbought condition)\n",
    "            signals.append((data[date_column].iloc[i], 'Sell', data[price_column].iloc[i], data[rsi_column].iloc[i]))\n",
    "            position = 0  # Exit position\n",
    "    return signals\n",
    "\n",
    "# Apply the RSI strategy to each index\n",
    "signals_xbi= rsi_strategy(data_xbi_rsi)\n",
    "signals_spx= rsi_strategy(data_spx_rsi)\n",
    "signals_nbi= rsi_strategy(data_nbi_rsi)\n",
    "signals_m1wo0hc = rsi_strategy(data_m1wo0hc_rsi)"
   ]
  },
  {
   "cell_type": "code",
   "execution_count": 5,
   "metadata": {},
   "outputs": [],
   "source": [
    "def buy_and_hold_performance(data, price_column='Close'):\n",
    "    buy_price = data[price_column].iloc[0]  # First price\n",
    "    sell_price = data[price_column].iloc[-1]  # Last price\n",
    "    total_return = sell_price - buy_price\n",
    "    total_return_pct = (total_return) / buy_price * 100\n",
    "    return total_return, total_return_pct\n",
    "\n",
    "# Calculate buy-and-hold performance data for each index\n",
    "buy_and_hold_profit_xbi, buy_and_hold_profit_pct_xbi = buy_and_hold_performance(data_xbi_rsi)\n",
    "buy_and_hold_profit_spx, buy_and_hold_profit_pct_spx = buy_and_hold_performance(data_spx_rsi)\n",
    "buy_and_hold_profit_nbi, buy_and_hold_profit_pct_nbi = buy_and_hold_performance(data_nbi_rsi)\n",
    "buy_and_hold_profit_m1wo0hc, buy_and_hold_profit_pct_m1wo0hc = buy_and_hold_performance(data_m1wo0hc_rsi)"
   ]
  },
  {
   "cell_type": "code",
   "execution_count": 6,
   "metadata": {},
   "outputs": [],
   "source": [
    "def performance_analysis(signals, output_path, index_name, buy_and_hold_profit, buy_and_hold_profit_pct):\n",
    "    # Convert signals to a DataFrame\n",
    "    signals_df = pd.DataFrame(signals, columns=['Date', 'Type', 'Price', 'RSI'])\n",
    "    \n",
    "    # Separate buy and sell signals\n",
    "    buys = signals_df[signals_df['Type'] == 'Buy'].reset_index(drop=True)\n",
    "    sells = signals_df[signals_df['Type'] == 'Sell'].reset_index(drop=True)\n",
    "    \n",
    "    # Ensure matching buy-sell pairs\n",
    "    trades = pd.DataFrame({\n",
    "        'Buy Date': buys['Date'],\n",
    "        'Buy Price': buys['Price'],\n",
    "        'Buy RSI': buys['RSI'],\n",
    "        'Sell Date': sells['Date'],\n",
    "        'Sell Price': sells['Price'],\n",
    "        'Sell RSI': sells['RSI']\n",
    "    })\n",
    "\n",
    "    # Calculate trade return and true positive flags\n",
    "    trades['Trade Return ($)'] = trades['Sell Price'] - trades['Buy Price']\n",
    "    trades['Trade Return (%)'] = (trades['Trade Return ($)'] / trades['Buy Price']) * 100\n",
    "    trades['True Positive'] = trades['Trade Return ($)'] > 0\n",
    "\n",
    "    # Count true positives and false positives\n",
    "    true_positives = trades['True Positive'].sum()\n",
    "    false_positives = len(trades) - true_positives\n",
    "    \n",
    "    # Calculate profits and losses\n",
    "    profits = trades.loc[trades['True Positive'], 'Trade Return ($)']\n",
    "    losses = trades.loc[~trades['True Positive'], 'Trade Return ($)']\n",
    "    \n",
    "    total_profit = trades['Trade Return ($)'].sum()\n",
    "    avg_profit = profits.mean() if not profits.empty else 0\n",
    "    avg_loss = losses.mean() if not losses.empty else 0\n",
    "    \n",
    "    initial_capital = trades['Buy Price'].iloc[0] if not trades.empty else 0\n",
    "\n",
    "    total_trades = true_positives + false_positives\n",
    "    true_positive_ratio = true_positives / total_trades if total_trades > 0 else 0\n",
    "\n",
    "    expected_return = (true_positive_ratio * avg_profit) + ((1 - true_positive_ratio) * avg_loss)\n",
    "    \n",
    "    # Convert dollar amounts to percentages\n",
    "    total_profit_pct = (total_profit / initial_capital) * 100 if initial_capital else 0\n",
    "    avg_profit_pct = (avg_profit / initial_capital) * 100 if initial_capital else 0\n",
    "    avg_loss_pct = (avg_loss / initial_capital) * 100 if initial_capital else 0\n",
    "    expected_return_pct = (expected_return / initial_capital) * 100 if initial_capital else 0\n",
    "\n",
    "    # Save trades to CSV\n",
    "    trades.to_csv(output_path, index=False)\n",
    "    print(\"=\"*40)\n",
    "    # Print the results directly within the function\n",
    "    print(f\"{index_name} Results\")\n",
    "    print(\"=\"*40)\n",
    "\n",
    "    # Section for RSI Strategy\n",
    "    print(\"RSI Strategy Performance:\")\n",
    "    print('-'*25)\n",
    "    print(f\"Total Profit: ${total_profit:.2f} ({total_profit_pct:.2f}%)\")\n",
    "    print(f\"Average Profit (True Positive): ${avg_profit:.2f} ({avg_profit_pct:.2f}%)\")\n",
    "    print(f\"Average Loss (False Positive): ${avg_loss:.2f} ({avg_loss_pct:.2f}%)\")\n",
    "    print(f\"True Positive Ratio: {true_positive_ratio:.2f}\")\n",
    "    print(f\"Expected Return: ${expected_return:.2f} ({expected_return_pct:.2f}%)\\n\")\n",
    "\n",
    "    # Section for Buy-and-Hold Strategy\n",
    "    print(\"Buy-and-Hold Strategy Performance\")\n",
    "    print('-'*25)\n",
    "\n",
    "    print(f\"Total Profit: ${buy_and_hold_profit:.2f} ({buy_and_hold_profit_pct:.2f}%)\\n\")\n",
    "    # Uncomment the following line to return the computed values for further analysis. \n",
    "    # return (total_profit, total_profit_pct), (avg_profit, avg_profit_pct), (avg_loss, avg_loss_pct), initial_capital, (true_positives, false_positives, true_positive_ratio), (expected_return, expected_return_pct)"
   ]
  },
  {
   "cell_type": "code",
   "execution_count": 7,
   "metadata": {},
   "outputs": [
    {
     "name": "stdout",
     "output_type": "stream",
     "text": [
      "========================================\n",
      "XBI Results\n",
      "========================================\n",
      "RSI Strategy Performance:\n",
      "-------------------------\n",
      "Total Profit: $3.70 (5.37%)\n",
      "Average Profit (True Positive): $6.75 (9.81%)\n",
      "Average Loss (False Positive): $-12.19 (-17.72%)\n",
      "True Positive Ratio: 0.65\n",
      "Expected Return: $0.16 (0.23%)\n",
      "\n",
      "Buy-and-Hold Strategy Performance\n",
      "-------------------------\n",
      "Total Profit: $49.67 (99.16%)\n",
      "\n"
     ]
    }
   ],
   "source": [
    "# Perform analysis and print results for XBI\n",
    "performance_analysis(signals_xbi, 'trades/XBI_trades.csv', \"XBI\", buy_and_hold_profit_xbi, buy_and_hold_profit_pct_xbi)\n"
   ]
  },
  {
   "cell_type": "code",
   "execution_count": 8,
   "metadata": {},
   "outputs": [
    {
     "name": "stdout",
     "output_type": "stream",
     "text": [
      "========================================\n",
      "SPX Results\n",
      "========================================\n",
      "RSI Strategy Performance:\n",
      "-------------------------\n",
      "Total Profit: $2058.72 (109.64%)\n",
      "Average Profit (True Positive): $135.41 (7.21%)\n",
      "Average Loss (False Positive): $-230.05 (-12.25%)\n",
      "True Positive Ratio: 0.85\n",
      "Expected Return: $79.18 (4.22%)\n",
      "\n",
      "Buy-and-Hold Strategy Performance\n",
      "-------------------------\n",
      "Total Profit: $3568.73 (179.60%)\n",
      "\n"
     ]
    }
   ],
   "source": [
    "# Perform analysis and print results for SPX\n",
    "performance_analysis(signals_spx, 'trades/SPX_trades.csv', \"SPX\", buy_and_hold_profit_spx, buy_and_hold_profit_pct_spx)"
   ]
  },
  {
   "cell_type": "code",
   "execution_count": 9,
   "metadata": {},
   "outputs": [
    {
     "name": "stdout",
     "output_type": "stream",
     "text": [
      "========================================\n",
      "NBI Results\n",
      "========================================\n",
      "RSI Strategy Performance:\n",
      "-------------------------\n",
      "Total Profit: $1201.22 (44.95%)\n",
      "Average Profit (True Positive): $182.46 (6.83%)\n",
      "Average Loss (False Positive): $-214.76 (-8.04%)\n",
      "True Positive Ratio: 0.67\n",
      "Expected Return: $50.05 (1.87%)\n",
      "\n",
      "Buy-and-Hold Strategy Performance\n",
      "-------------------------\n",
      "Total Profit: $2105.05 (77.68%)\n",
      "\n"
     ]
    }
   ],
   "source": [
    "# Perform analysis and print results for NBI\n",
    "performance_analysis(signals_nbi, 'trades/NBI_trades.csv', \"NBI\", buy_and_hold_profit_nbi, buy_and_hold_profit_pct_nbi)"
   ]
  },
  {
   "cell_type": "code",
   "execution_count": 10,
   "metadata": {},
   "outputs": [
    {
     "name": "stdout",
     "output_type": "stream",
     "text": [
      "========================================\n",
      "M1WO0HC Results\n",
      "========================================\n",
      "RSI Strategy Performance:\n",
      "-------------------------\n",
      "Total Profit: $187.83 (80.56%)\n",
      "Average Profit (True Positive): $11.28 (4.84%)\n",
      "Average Loss (False Positive): $-10.07 (-4.32%)\n",
      "True Positive Ratio: 0.79\n",
      "Expected Return: $6.71 (2.88%)\n",
      "\n",
      "Buy-and-Hold Strategy Performance\n",
      "-------------------------\n",
      "Total Profit: $319.57 (133.04%)\n",
      "\n"
     ]
    }
   ],
   "source": [
    "# Perform analysis and print results for M1WO0HC\n",
    "performance_analysis(signals_m1wo0hc, 'trades/M1WO0HC_trades.csv', \"M1WO0HC\", buy_and_hold_profit_m1wo0hc, buy_and_hold_profit_pct_m1wo0hc)"
   ]
  }
 ],
 "metadata": {
  "kernelspec": {
   "display_name": "orbimed_venv",
   "language": "python",
   "name": "python3"
  },
  "language_info": {
   "codemirror_mode": {
    "name": "ipython",
    "version": 3
   },
   "file_extension": ".py",
   "mimetype": "text/x-python",
   "name": "python",
   "nbconvert_exporter": "python",
   "pygments_lexer": "ipython3",
   "version": "3.11.5"
  }
 },
 "nbformat": 4,
 "nbformat_minor": 2
}
